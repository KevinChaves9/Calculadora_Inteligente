while True:
  print('\nCalculadora Simples')
  print('Escolha uma operação:')
  print('+ - Soma')
  print('- - Subtração')
  print('* - Multiplicação')
  print('/ - Divisão')
  print('@ - Para sair da calculadora')

  opcao = input('Digite a operação desejada: ')

  if opcao == '@':
    print('Saindo da calculadoara. Obrigado por acessar! Até a proxima!')
    break # Para parar o programa

  # Recebe dois números para a operação
  num1 = (input('Digite o primeiro número: '))
  num2 = (input('Digite o segundo número: '))

  #Converte para int
  try:
    num1 = int(num1)
    num2 = int(num2)

  except ValueError:
    print('Inválido. Digite apenas númerosgh5.')
    continue

  # Realiza a operação
  if opcao == '+':
    resultado = num1 + num2
    print(f'Resultado da soma: {resultado}')
  elif opcao == '-':
    resultado = num1 - num2
    print(f'Resultado da subtração: {resultado}')
  elif opcao == '*':
    resultado = num1 * num2
    print(f'Resultado da multiplicação: {resultado}')
  elif opcao == '/':
    if num2 != 0:
     resultado = num1 / num2
     print(f'Resultado da divisão: {resultado}')
    else:
      print('Não é possivel dividir por 0')
  else:
    print('Inválido. Tente novamente.')

