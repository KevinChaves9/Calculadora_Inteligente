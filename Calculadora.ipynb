{
 "cells": [
  {
   "cell_type": "code",
   "execution_count": null,
   "metadata": {
    "colab": {
     "base_uri": "https://localhost:8080/"
    },
    "executionInfo": {
     "elapsed": 17503,
     "status": "ok",
     "timestamp": 1743725098261,
     "user": {
      "displayName": "Kevin Chaves",
      "userId": "02407012145792762612"
     },
     "user_tz": 180
    },
    "id": "fA7e8fry5hgX",
    "outputId": "68fa0356-4eeb-490b-8845-0798583f7c6c"
   },
   "outputs": [
    {
     "name": "stdout",
     "output_type": "stream",
     "text": [
      "\n",
      "Calculadora Simples\n",
      "Escolha uma operação:\n",
      "+ - Soma\n",
      "- - Subtração\n",
      "* - Multiplicação\n",
      "/ - Divisão\n",
      "@ - Para sair da calculadora\n",
      "Digite a operação desejada: @\n",
      "Saindo da calculadoara. Obrigado por acessar! Até a proxima!\n"
     ]
    }
   ],
   "source": [
    "while True:\n",
    "  print('\\nCalculadora Simples')\n",
    "  print('Escolha uma operação:')\n",
    "  print('+ - Soma')\n",
    "  print('- - Subtração')\n",
    "  print('* - Multiplicação')\n",
    "  print('/ - Divisão')\n",
    "  print('@ - Para sair da calculadora')\n",
    "\n",
    "  opcao = input('Digite a operação desejada: ')\n",
    "\n",
    "  if opcao == '@':\n",
    "    print('Saindo da calculadoara. Obrigado por acessar! Até a proxima!')\n",
    "    break # Para parar o programa\n",
    "\n",
    "  # Recebe dois números para a operação\n",
    "  num1 = (input('Digite o primeiro número: '))\n",
    "  num2 = (input('Digite o segundo número: '))\n",
    "\n",
    "  #Converte para int\n",
    "  try:\n",
    "    num1 = int(num1)\n",
    "    num2 = int(num2)\n",
    "\n",
    "  except ValueError:\n",
    "    print('Inválido. Digite apenas númerosgh5.')\n",
    "    continue\n",
    "\n",
    "  # Realiza a operação\n",
    "  if opcao == '+':\n",
    "    resultado = num1 + num2\n",
    "    print(f'Resultado da soma: {resultado}')\n",
    "  elif opcao == '-':\n",
    "    resultado = num1 - num2\n",
    "    print(f'Resultado da subtração: {resultado}')\n",
    "  elif opcao == '*':\n",
    "    resultado = num1 * num2\n",
    "    print(f'Resultado da multiplicação: {resultado}')\n",
    "  elif opcao == '/':\n",
    "    if num2 != 0:\n",
    "     resultado = num1 / num2\n",
    "     print(f'Resultado da divisão: {resultado}')\n",
    "    else:\n",
    "      print('Não é possivel dividir por 0')\n",
    "  else:\n",
    "    print('Inválido. Tente novamente.')\n"
   ]
  },
  {
   "cell_type": "markdown",
   "metadata": {},
   "source": []
  },
  {
   "cell_type": "code",
   "execution_count": null,
   "metadata": {},
   "outputs": [
    {
     "ename": "",
     "evalue": "",
     "output_type": "error",
     "traceback": [
      "\u001b[1;31mRunning cells with 'Python 3.11.9' requires the ipykernel package.\n",
      "\u001b[1;31m<a href='command:jupyter.createPythonEnvAndSelectController'>Create a Python Environment</a> with the required packages.\n",
      "\u001b[1;31mOr install 'ipykernel' using the command: 'c:/Users/Frost/AppData/Local/Microsoft/WindowsApps/python3.11.exe -m pip install ipykernel -U --user --force-reinstall'"
     ]
    }
   ],
   "source": [
    "# Criar os arquivos solicitados: calculadora.py e executar_calculadora.sh\n",
    "\n",
    "# Conteúdo do código Python\n",
    "python_code = \"\"\"while True:\n",
    "  print('\\\\nCalculadora Simples')\n",
    "  print('Escolha uma operação:')\n",
    "  print('+ - Soma')\n",
    "  print('- - Subtração')\n",
    "  print('* - Multiplicação')\n",
    "  print('/ - Divisão')\n",
    "  print('@ - Para sair da calculadora')\n",
    "\n",
    "  opcao = input('Digite a operação desejada: ')\n",
    "\n",
    "  if opcao == '@':\n",
    "    print('Saindo da calculadoara. Obrigado por acessar! Até a proxima!')\n",
    "    break\n",
    "\n",
    "  num1 = (input('Digite o primeiro número: '))\n",
    "  num2 = (input('Digite o segundo número: '))\n",
    "\n",
    "  try:\n",
    "    num1 = int(num1)\n",
    "    num2 = int(num2)\n",
    "  except ValueError:\n",
    "    print('Inválido. Digite apenas números.')\n",
    "    continue\n",
    "\n",
    "  if opcao == '+':\n",
    "    resultado = num1 + num2\n",
    "    print(f'Resultado da soma: {resultado}')\n",
    "  elif opcao == '-':\n",
    "    resultado = num1 - num2\n",
    "    print(f'Resultado da subtração: {resultado}')\n",
    "  elif opcao == '*':\n",
    "    resultado = num1 * num2\n",
    "    print(f'Resultado da multiplicação: {resultado}')\n",
    "  elif opcao == '/':\n",
    "    if num2 != 0:\n",
    "      resultado = num1 / num2\n",
    "      print(f'Resultado da divisão: {resultado}')\n",
    "    else:\n",
    "      print('Não é possível dividir por 0')\n",
    "  else:\n",
    "    print('Inválido. Tente novamente.')\n",
    "\"\"\"\n",
    "\n",
    "# Conteúdo do shell script\n",
    "shell_script = \"\"\"#!/bin/bash\n",
    "# Executa a calculadora Python\n",
    "python3 calculadora.py\n",
    "\"\"\"\n",
    "\n",
    "# Criar os arquivos\n",
    "python_file_path = \"/mnt/data/calculadora.py\"\n",
    "shell_script_path = \"/mnt/data/executar_calculadora.sh\"\n",
    "\n",
    "with open(python_file_path, \"w\") as f:\n",
    "    f.write(python_code)\n",
    "\n",
    "with open(shell_script_path, \"w\") as f:\n",
    "    f.write(shell_script)\n",
    "\n",
    "# Tornar o shell script executável\n",
    "import os\n",
    "os.chmod(shell_script_path, 0o755)\n",
    "\n",
    "python_file_path, shell_script_path\n"
   ]
  }
 ],
 "metadata": {
  "colab": {
   "authorship_tag": "ABX9TyP4u1V0V1bN5B60mK6iKQ/3",
   "provenance": []
  },
  "kernelspec": {
   "display_name": "Python 3",
   "name": "python3"
  },
  "language_info": {
   "name": "python",
   "version": "3.11.9"
  }
 },
 "nbformat": 4,
 "nbformat_minor": 0
}
